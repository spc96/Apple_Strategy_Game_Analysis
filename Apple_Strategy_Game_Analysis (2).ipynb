{
 "cells": [
  {
   "cell_type": "code",
   "execution_count": 1,
   "metadata": {
    "collapsed": true
   },
   "outputs": [],
   "source": [
    "import os\n",
    "\n",
    "import numpy as np\n",
    "from matplotlib import pyplot as plt\n",
    "import matplotlib.dates as mdates\n",
    "\n",
    "import string\n",
    "\n",
    "import nltk\n",
    "\n",
    "from operator import itemgetter\n",
    "\n",
    "import pandas as pd\n",
    "\n",
    "import datetime\n",
    "\n",
    "import seaborn as sns"
   ]
  },
  {
   "cell_type": "code",
   "execution_count": 2,
   "metadata": {
    "collapsed": true
   },
   "outputs": [],
   "source": [
    "data = pd.read_csv('appstore_games.csv', encoding = \"ISO-8859-1\")"
   ]
  },
  {
   "cell_type": "code",
   "execution_count": 17,
   "metadata": {
    "collapsed": true
   },
   "outputs": [],
   "source": [
    "description = data[\"Description\"]\n",
    "keywords = []\n",
    "\n",
    "\n",
    "for i in range(len(description)):\n",
    "    s = description[i].lower().replace(\"\\\\n\",' ').translate(str.maketrans('', '', string.punctuation)).split()\n",
    "    keywords.append(s)\n",
    "\n",
    "#print(keywords[0:5])"
   ]
  },
  {
   "cell_type": "code",
   "execution_count": 18,
   "metadata": {
    "collapsed": true
   },
   "outputs": [],
   "source": [
    "flat_keywords = [item for sublist in keywords for item in sublist]\n",
    "\n",
    "keywords_set = set(flat_keywords)\n"
   ]
  },
  {
   "cell_type": "code",
   "execution_count": 19,
   "metadata": {
    "collapsed": true
   },
   "outputs": [],
   "source": [
    "def most_common_by_POS(word_list, POS, output_len):\n",
    "    \"\"\"This function takes a list of non-unique words and a part of speach tag (e.i. noun \"N\" or adjective \"J\")\n",
    "    and returns a list of tuples with the most common words and their number of appearences in the word_list.\"\"\"\n",
    "   \n",
    "    keyword_set = set(word_list)\n",
    "    keywords_str = \" \".join(keywords_set)\n",
    "    selected_POS = [word for (word, pos) in nltk.pos_tag(nltk.word_tokenize(keywords_str)) if pos[0] == POS]\n",
    "    \n",
    "    selected_set = set(selected_POS)\n",
    "    \n",
    "    word_count = {}\n",
    "    for i in word_list:\n",
    "        if i in selected_set:\n",
    "            word_count[i] = word_count.get(i, 0 ) + 1\n",
    "    \n",
    "    output_list = sorted(list(word_count.items()), key=itemgetter(1), reverse=True)\n",
    "    \n",
    "    if len(selected_POS) < output_len:\n",
    "        return output_list\n",
    "    else:\n",
    "        return output_list[:output_len]\n",
    "            \n",
    "        \n",
    "    "
   ]
  },
  {
   "cell_type": "code",
   "execution_count": 21,
   "metadata": {},
   "outputs": [
    {
     "data": {
      "text/plain": [
       "[('game', 40607),\n",
       " ('features', 7471),\n",
       " ('time', 7456),\n",
       " ('games', 7316),\n",
       " ('fun', 7208),\n",
       " ('world', 6960),\n",
       " ('levels', 6933),\n",
       " ('players', 5845),\n",
       " ('use', 5567),\n",
       " ('strategy', 5430),\n",
       " ('battle', 5311),\n",
       " ('friends', 4626),\n",
       " ('build', 3823),\n",
       " ('challenge', 3819),\n",
       " ('help', 3819),\n",
       " ('mode', 3803),\n",
       " ('player', 3626),\n",
       " ('skills', 3606),\n",
       " ('war', 3437),\n",
       " ('graphics', 3399)]"
      ]
     },
     "execution_count": 21,
     "metadata": {},
     "output_type": "execute_result"
    }
   ],
   "source": [
    "most_common_by_POS(flat_keywords,\"N\",20)"
   ]
  },
  {
   "cell_type": "code",
   "execution_count": 7,
   "metadata": {},
   "outputs": [
    {
     "data": {
      "text/plain": [
       "[('the', 'DT'),\n",
       " ('cat', 'NN'),\n",
       " ('enjoyed', 'VBD'),\n",
       " ('the', 'DT'),\n",
       " ('warmer', 'NN'),\n",
       " ('weather', 'NN'),\n",
       " ('.', '.')]"
      ]
     },
     "execution_count": 7,
     "metadata": {},
     "output_type": "execute_result"
    }
   ],
   "source": [
    "keywords_str = 'the cat enjoyed the warmer weather.'\n",
    "selected_POS = [(word, pos) for (word, pos) in nltk.pos_tag(nltk.word_tokenize(keywords_str))]\n",
    "selected_POS"
   ]
  },
  {
   "cell_type": "code",
   "execution_count": null,
   "metadata": {
    "collapsed": true
   },
   "outputs": [],
   "source": []
  },
  {
   "cell_type": "code",
   "execution_count": null,
   "metadata": {
    "collapsed": true
   },
   "outputs": [],
   "source": []
  }
 ],
 "metadata": {
  "kernelspec": {
   "display_name": "Python 3",
   "language": "python",
   "name": "python3"
  },
  "language_info": {
   "codemirror_mode": {
    "name": "ipython",
    "version": 3
   },
   "file_extension": ".py",
   "mimetype": "text/x-python",
   "name": "python",
   "nbconvert_exporter": "python",
   "pygments_lexer": "ipython3",
   "version": "3.6.3"
  }
 },
 "nbformat": 4,
 "nbformat_minor": 2
}
